{
 "cells": [
  {
   "cell_type": "code",
   "execution_count": null,
   "metadata": {},
   "outputs": [],
   "source": [
    "import sys\n",
    "sys.path.append(\"..\")\n",
    "\n",
    "import ccxt\n",
    "from lib.binance_data_download import *"
   ]
  },
  {
   "cell_type": "markdown",
   "metadata": {},
   "source": [
    "# Single Symbol"
   ]
  },
  {
   "cell_type": "code",
   "execution_count": null,
   "metadata": {},
   "outputs": [],
   "source": [
    "\"\"\"\n",
    "This function downloads 1 minute futures klines from binance with a specified\n",
    "start date and places it into the data/binance folder as a pq file with a few\n",
    "additional features:\n",
    "-   Parses columns into something readable\n",
    "-   Automatically resolves earlier start dates. If you ask for an earlier\n",
    "    start date than what your pq file currently has, it will download and append\n",
    "    what it can find.\n",
    "-   Always gets the most recent data. New data will be appended to existing\n",
    "    pq files.\n",
    "\"\"\"\n",
    "symbol = 'BTCUSDT'\n",
    "download_ohlc_binance(symbol, dt.date(2024,1,1))"
   ]
  },
  {
   "cell_type": "code",
   "execution_count": null,
   "metadata": {},
   "outputs": [],
   "source": [
    "path_to = f\"../data/binance/{symbol}.pq\"\n",
    "pd.read_parquet(path_to).tail()"
   ]
  },
  {
   "cell_type": "markdown",
   "metadata": {},
   "source": [
    "# Bulk Download"
   ]
  },
  {
   "cell_type": "code",
   "execution_count": null,
   "metadata": {},
   "outputs": [],
   "source": [
    "\"\"\"\n",
    "Bulk download example: download oldest 5 perps on binance\n",
    "\"\"\"\n",
    "binance = ccxt.binance()\n",
    "symbols = binance.fapipublicGetExchangeinfo()['symbols']\n",
    "symbols = pd.DataFrame(symbols)\n",
    "perps = symbols[symbols['contractType']=='PERPETUAL'].copy()\n",
    "perps['onboard_dt'] = pd.to_datetime(perps['onboardDate'].astype(np.int64), unit='ms')"
   ]
  },
  {
   "cell_type": "code",
   "execution_count": null,
   "metadata": {},
   "outputs": [],
   "source": [
    "for s in perps['symbol'].head(5):\n",
    "    try:\n",
    "        print(f\"downloading: {s}\")\n",
    "        download_ohlc_binance(s, dt.date(2025,3,10))\n",
    "    except Exception as e:\n",
    "        print(e)\n",
    "        continue"
   ]
  }
 ],
 "metadata": {
  "kernelspec": {
   "display_name": ".venv",
   "language": "python",
   "name": "python3"
  },
  "language_info": {
   "codemirror_mode": {
    "name": "ipython",
    "version": 3
   },
   "file_extension": ".py",
   "mimetype": "text/x-python",
   "name": "python",
   "nbconvert_exporter": "python",
   "pygments_lexer": "ipython3",
   "version": "3.9.13"
  }
 },
 "nbformat": 4,
 "nbformat_minor": 2
}
