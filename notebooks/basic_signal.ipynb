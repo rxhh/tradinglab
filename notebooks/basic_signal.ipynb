{
 "cells": [
  {
   "cell_type": "code",
   "execution_count": null,
   "metadata": {},
   "outputs": [],
   "source": [
    "import sys\n",
    "sys.path.append(\"..\")\n",
    "\n",
    "\n",
    "import datetime as dt\n",
    "from ipywidgets import interact\n",
    "import importlib\n",
    "import matplotlib.pyplot as plt\n",
    "import numpy as np\n",
    "import pandas as pd\n",
    "import plotly.graph_objects as go\n",
    "from plotly.subplots import make_subplots\n",
    "import seaborn as sns\n",
    "import statsmodels.api as sm\n",
    "import tqdm\n",
    "import vectorbtpro as vbt\n",
    "\n",
    "from lib import utils, indicators, signal"
   ]
  },
  {
   "cell_type": "code",
   "execution_count": null,
   "metadata": {},
   "outputs": [],
   "source": [
    "symbol = 'BTCUSDT'\n",
    "freq = '5min'\n",
    "\n",
    "start = dt.date(2024,1,1)\n",
    "end = dt.date(2024,3,30)\n",
    "\n",
    "df = pd.read_parquet(f\"../data/binance/{symbol}.pq\").loc[start:end]\n",
    "df = df.resample(freq).agg({'timestamp':'first', 'close_time':'last', 'open':'first', 'high':'max', 'low':'min', 'close':'last', 'volume':'sum', 'quoteVolume':'sum', 'nTrades':'sum', 'upVolume':'sum', 'upQuoteVolume':'sum'})\n",
    "indicators.Standard(df)"
   ]
  },
  {
   "cell_type": "code",
   "execution_count": null,
   "metadata": {},
   "outputs": [],
   "source": [
    "importlib.reload(signal)\n",
    "class MACross(signal.Signal):\n",
    "    def generate_signals(self, df, params):\n",
    "        df['ma1'] = indicators.SuperSmoother(df['hlcc4'], params['ma1'])\n",
    "        df['ma2'] = indicators.GaussianFilter(df['hlcc4'], params['ma2'], 2)\n",
    "        return {\n",
    "            'le': utils.crossover(df['ma1'], df['ma2']),\n",
    "            'se': utils.crossover(df['ma2'], df['ma1']),\n",
    "            'lx': None,\n",
    "            'sx': None\n",
    "            }\n",
    "\n",
    "    def optimize_signal(self, df):\n",
    "        return {}"
   ]
  },
  {
   "cell_type": "code",
   "execution_count": null,
   "metadata": {},
   "outputs": [],
   "source": [
    "p = {\n",
    "    'ma1': 21,\n",
    "    'ma2': 200,\n",
    "}\n",
    "strat = MACross()\n",
    "signals = strat.generate_signals(df, p)"
   ]
  },
  {
   "cell_type": "code",
   "execution_count": null,
   "metadata": {},
   "outputs": [],
   "source": [
    "strat.plot_signal_sltp_stop_natr(df, p)"
   ]
  },
  {
   "cell_type": "code",
   "execution_count": null,
   "metadata": {},
   "outputs": [],
   "source": [
    "strat.plot_signal_td_stop(df, p)"
   ]
  }
 ],
 "metadata": {
  "kernelspec": {
   "display_name": ".venv",
   "language": "python",
   "name": "python3"
  },
  "language_info": {
   "codemirror_mode": {
    "name": "ipython",
    "version": 3
   },
   "file_extension": ".py",
   "mimetype": "text/x-python",
   "name": "python",
   "nbconvert_exporter": "python",
   "pygments_lexer": "ipython3",
   "version": "3.9.13"
  }
 },
 "nbformat": 4,
 "nbformat_minor": 2
}
